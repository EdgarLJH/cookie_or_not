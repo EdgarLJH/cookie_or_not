{
 "cells": [
  {
   "cell_type": "code",
   "execution_count": 1,
   "id": "c37e110d",
   "metadata": {},
   "outputs": [],
   "source": [
    "import numpy as np\n",
    "import pandas as pd\n",
    "\n",
    "import matplotlib.pyplot as plt\n"
   ]
  },
  {
   "cell_type": "code",
   "execution_count": 2,
   "id": "49c429c2",
   "metadata": {},
   "outputs": [],
   "source": [
    "# Assumptions:\n",
    "\n",
    "# Basic ingredients are: fat (butter), eggs, sugar, flour\n",
    "# Basic ingredients are the only ingredients\n",
    "# Fancy add-ons in recipes do not affect amount of basin ingredients\n",
    "# All recipes reported yield same-sized cookies/biscuits \n",
    "# Granulated sugar = 250 g/cup; caster sugar = 240 g/cup; brown sugar = 245 g /cup\n",
    "# 1:1:1 weight for self-raising, plain and all-purpose flour\n",
    "# All eggs same size\n",
    "# Idgaf what type of cookies/biscuits - whichever websites come up first on Google"
   ]
  },
  {
   "cell_type": "code",
   "execution_count": 3,
   "id": "c8187ac7",
   "metadata": {},
   "outputs": [],
   "source": [
    "cookie = pd.read_csv(\"cookie_or_not.csv\")\n",
    "\n",
    "anzac1 = [125, 0, 120, 150, 20]\n",
    "anzac2 = [100, 0, 100, 100, 20]\n",
    "anzac3 = [150, 0, 165, 150, 17] "
   ]
  },
  {
   "cell_type": "code",
   "execution_count": 4,
   "id": "43a4c20b",
   "metadata": {},
   "outputs": [],
   "source": [
    "butter = cookie['cbutter']\n",
    "eggs = cookie['ceggs']\n",
    "sugar = cookie['csugar']\n",
    "flour = cookie['cflour']\n",
    "make = cookie['cyield']"
   ]
  },
  {
   "cell_type": "code",
   "execution_count": 5,
   "id": "1ebdce1f",
   "metadata": {},
   "outputs": [
    {
     "data": {
      "image/png": "[encoded data removed]",
      "text/plain": [
       "<Figure size 576x432 with 4 Axes>"
      ]
     },
     "metadata": {
      "needs_background": "light"
     },
     "output_type": "display_data"
    }
   ],
   "source": [
    "fig = plt.figure(figsize = [8,6])\n",
    "\n",
    "ax1 = fig.add_subplot(221)\n",
    "ax1.boxplot(butter/make)\n",
    "ax1.set_xlabel(\"Butter\", labelpad = 8)\n",
    "ax1.set_ylim(0, 22)\n",
    "ax1.axhline((butter/make).std(), 0.35, 0.65)\n",
    "ax1.axhline((butter/make).mean() + (butter/make).std(), 0.35, 0.65)\n",
    "ax1.scatter(1, anzac1[0]/anzac1[-1], color = 'C2', zorder = 3)\n",
    "ax1.scatter(1, anzac2[0]/anzac2[-1], color = 'C3', zorder = 3)\n",
    "ax1.scatter(1, anzac3[0]/anzac3[-1], color = 'C6', zorder = 3)\n",
    "\n",
    "ax2 = fig.add_subplot(222)\n",
    "ax2.boxplot(eggs/make)\n",
    "ax2.set_xlabel(\"Eggs\", labelpad = 8)\n",
    "ax2.set_ylim(0, 0.22)\n",
    "ax2.axhline((eggs/make).std(), 0.35, 0.65)\n",
    "ax2.axhline((eggs/make).mean() + (eggs/make).std(), 0.35, 0.65)\n",
    "ax2.scatter(1, anzac1[1]/anzac1[-1], color = 'C2', zorder = 3)\n",
    "ax2.scatter(1, anzac2[1]/anzac2[-1], color = 'C3', zorder = 3)\n",
    "ax2.scatter(1, anzac3[1]/anzac3[-1], color = 'C6', zorder = 3)\n",
    "\n",
    "ax3 = fig.add_subplot(223)\n",
    "ax3.boxplot(sugar/make)\n",
    "ax3.set_xlabel(\"Sugar\", labelpad = 8)\n",
    "ax3.set_ylim(0, 40)\n",
    "ax3.axhline((sugar/make).std(), 0.35, 0.65)\n",
    "ax3.axhline((sugar/make).mean() + (sugar/make).std(), 0.35, 0.65)\n",
    "ax3.scatter(1, anzac1[2]/anzac1[-1], color = 'C2', zorder = 3)\n",
    "ax3.scatter(1, anzac2[2]/anzac2[-1], color = 'C3', zorder = 3)\n",
    "ax3.scatter(1, anzac3[2]/anzac3[-1], color = 'C6', zorder = 3)\n",
    "\n",
    "ax4 = fig.add_subplot(224)\n",
    "ax4.boxplot(flour/make)\n",
    "ax4.set_xlabel(\"Flour\", labelpad = 8)\n",
    "ax4.set_ylim(0, 45)\n",
    "ax4.axhline((flour/make).std(), 0.35, 0.65)\n",
    "ax4.axhline((flour/make).mean() + (flour/make).std(), 0.35, 0.65, label = \"Std dev.\")\n",
    "ax4.scatter(1, anzac1[3]/anzac1[-1], color = 'C2', zorder = 3, label = \"Anzac 1\")\n",
    "ax4.scatter(1, anzac2[3]/anzac2[-1], color = 'C3', zorder = 3, label = \"Anzac 2\")\n",
    "ax4.scatter(1, anzac3[3]/anzac3[-1], color = 'C6', zorder = 3, label = \"Anzac 3\")\n",
    "\n",
    "plt.legend()\n",
    "\n",
    "for i in [ax1, ax2, ax3, ax4]:\n",
    "    i.tick_params(axis='x', which='both', bottom=False, top=False, labelbottom=False)\n",
    "\n",
    "fig.tight_layout()"
   ]
  }
 ],
 "metadata": {
  "kernelspec": {
   "display_name": "Python 3 (ipykernel)",
   "language": "python",
   "name": "python3"
  },
  "language_info": {
   "codemirror_mode": {
    "name": "ipython",
    "version": 3
   },
   "file_extension": ".py",
   "mimetype": "text/x-python",
   "name": "python",
   "nbconvert_exporter": "python",
   "pygments_lexer": "ipython3",
   "version": "3.9.12"
  }
 },
 "nbformat": 4,
 "nbformat_minor": 5
}
